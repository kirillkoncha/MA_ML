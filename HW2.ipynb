{
  "cells": [
    {
      "cell_type": "markdown",
      "metadata": {
        "id": "kFc5b0CMTx22"
      },
      "source": [
        "На этом занятии мы попробуем задачу регрессии. Данные в этой же папке, будем тренироваться на датасете фильмов с IMDB"
      ]
    },
    {
      "cell_type": "markdown",
      "metadata": {
        "id": "yUlTOj7DTx24"
      },
      "source": [
        "Перед обучением обучением модели, нужно подготовить данные:\n",
        "\n",
        "- найти\\собрать данные\n",
        "- почистить и предобработать\n",
        "- преобразовать в матрицы \n"
      ]
    },
    {
      "cell_type": "code",
      "execution_count": 1,
      "metadata": {
        "tags": [],
        "id": "Lc2u0QtNTx25"
      },
      "outputs": [],
      "source": [
        "# импорты необходимых библиотек\n",
        "import pandas as pd\n",
        "\n",
        "import seaborn as sns\n",
        "import matplotlib.pyplot as plt\n",
        "# %matplotlib inline\n",
        "\n",
        "# import gensim\n",
        "from gensim.models.doc2vec import Doc2Vec, TaggedDocument\n",
        "from sklearn.linear_model import LinearRegression, Ridge, Lasso\n",
        "from sklearn.preprocessing import StandardScaler\n",
        "from sklearn.model_selection import train_test_split\n",
        "from sklearn.metrics import mean_absolute_error, mean_squared_error\n"
      ]
    },
    {
      "cell_type": "code",
      "execution_count": 2,
      "metadata": {
        "tags": [],
        "colab": {
          "base_uri": "https://localhost:8080/",
          "height": 529
        },
        "id": "hJS0IDyTTx26",
        "outputId": "5f001ca6-8332-45c5-a59e-53afde0f9a60"
      },
      "outputs": [
        {
          "output_type": "stream",
          "name": "stdout",
          "text": [
            "(1000, 12)\n"
          ]
        },
        {
          "output_type": "execute_result",
          "data": {
            "text/plain": [
              "   Rank                    Title                     Genre  \\\n",
              "0     1  Guardians of the Galaxy   Action,Adventure,Sci-Fi   \n",
              "1     2               Prometheus  Adventure,Mystery,Sci-Fi   \n",
              "2     3                    Split           Horror,Thriller   \n",
              "\n",
              "                                         Description            Director  \\\n",
              "0  A group of intergalactic criminals are forced ...          James Gunn   \n",
              "1  Following clues to the origin of mankind, a te...        Ridley Scott   \n",
              "2  Three girls are kidnapped by a man with a diag...  M. Night Shyamalan   \n",
              "\n",
              "                                              Actors  Year  Runtime (Minutes)  \\\n",
              "0  Chris Pratt, Vin Diesel, Bradley Cooper, Zoe S...  2014                121   \n",
              "1  Noomi Rapace, Logan Marshall-Green, Michael Fa...  2012                124   \n",
              "2  James McAvoy, Anya Taylor-Joy, Haley Lu Richar...  2016                117   \n",
              "\n",
              "   Rating   Votes  Revenue (Millions)  Metascore  \n",
              "0     8.1  757074              333.13       76.0  \n",
              "1     7.0  485820              126.46       65.0  \n",
              "2     7.3  157606              138.12       62.0  "
            ],
            "text/html": [
              "\n",
              "  <div id=\"df-3c34a5f7-5d67-445a-9e99-d9f6843942ec\">\n",
              "    <div class=\"colab-df-container\">\n",
              "      <div>\n",
              "<style scoped>\n",
              "    .dataframe tbody tr th:only-of-type {\n",
              "        vertical-align: middle;\n",
              "    }\n",
              "\n",
              "    .dataframe tbody tr th {\n",
              "        vertical-align: top;\n",
              "    }\n",
              "\n",
              "    .dataframe thead th {\n",
              "        text-align: right;\n",
              "    }\n",
              "</style>\n",
              "<table border=\"1\" class=\"dataframe\">\n",
              "  <thead>\n",
              "    <tr style=\"text-align: right;\">\n",
              "      <th></th>\n",
              "      <th>Rank</th>\n",
              "      <th>Title</th>\n",
              "      <th>Genre</th>\n",
              "      <th>Description</th>\n",
              "      <th>Director</th>\n",
              "      <th>Actors</th>\n",
              "      <th>Year</th>\n",
              "      <th>Runtime (Minutes)</th>\n",
              "      <th>Rating</th>\n",
              "      <th>Votes</th>\n",
              "      <th>Revenue (Millions)</th>\n",
              "      <th>Metascore</th>\n",
              "    </tr>\n",
              "  </thead>\n",
              "  <tbody>\n",
              "    <tr>\n",
              "      <th>0</th>\n",
              "      <td>1</td>\n",
              "      <td>Guardians of the Galaxy</td>\n",
              "      <td>Action,Adventure,Sci-Fi</td>\n",
              "      <td>A group of intergalactic criminals are forced ...</td>\n",
              "      <td>James Gunn</td>\n",
              "      <td>Chris Pratt, Vin Diesel, Bradley Cooper, Zoe S...</td>\n",
              "      <td>2014</td>\n",
              "      <td>121</td>\n",
              "      <td>8.1</td>\n",
              "      <td>757074</td>\n",
              "      <td>333.13</td>\n",
              "      <td>76.0</td>\n",
              "    </tr>\n",
              "    <tr>\n",
              "      <th>1</th>\n",
              "      <td>2</td>\n",
              "      <td>Prometheus</td>\n",
              "      <td>Adventure,Mystery,Sci-Fi</td>\n",
              "      <td>Following clues to the origin of mankind, a te...</td>\n",
              "      <td>Ridley Scott</td>\n",
              "      <td>Noomi Rapace, Logan Marshall-Green, Michael Fa...</td>\n",
              "      <td>2012</td>\n",
              "      <td>124</td>\n",
              "      <td>7.0</td>\n",
              "      <td>485820</td>\n",
              "      <td>126.46</td>\n",
              "      <td>65.0</td>\n",
              "    </tr>\n",
              "    <tr>\n",
              "      <th>2</th>\n",
              "      <td>3</td>\n",
              "      <td>Split</td>\n",
              "      <td>Horror,Thriller</td>\n",
              "      <td>Three girls are kidnapped by a man with a diag...</td>\n",
              "      <td>M. Night Shyamalan</td>\n",
              "      <td>James McAvoy, Anya Taylor-Joy, Haley Lu Richar...</td>\n",
              "      <td>2016</td>\n",
              "      <td>117</td>\n",
              "      <td>7.3</td>\n",
              "      <td>157606</td>\n",
              "      <td>138.12</td>\n",
              "      <td>62.0</td>\n",
              "    </tr>\n",
              "  </tbody>\n",
              "</table>\n",
              "</div>\n",
              "      <button class=\"colab-df-convert\" onclick=\"convertToInteractive('df-3c34a5f7-5d67-445a-9e99-d9f6843942ec')\"\n",
              "              title=\"Convert this dataframe to an interactive table.\"\n",
              "              style=\"display:none;\">\n",
              "        \n",
              "  <svg xmlns=\"http://www.w3.org/2000/svg\" height=\"24px\"viewBox=\"0 0 24 24\"\n",
              "       width=\"24px\">\n",
              "    <path d=\"M0 0h24v24H0V0z\" fill=\"none\"/>\n",
              "    <path d=\"M18.56 5.44l.94 2.06.94-2.06 2.06-.94-2.06-.94-.94-2.06-.94 2.06-2.06.94zm-11 1L8.5 8.5l.94-2.06 2.06-.94-2.06-.94L8.5 2.5l-.94 2.06-2.06.94zm10 10l.94 2.06.94-2.06 2.06-.94-2.06-.94-.94-2.06-.94 2.06-2.06.94z\"/><path d=\"M17.41 7.96l-1.37-1.37c-.4-.4-.92-.59-1.43-.59-.52 0-1.04.2-1.43.59L10.3 9.45l-7.72 7.72c-.78.78-.78 2.05 0 2.83L4 21.41c.39.39.9.59 1.41.59.51 0 1.02-.2 1.41-.59l7.78-7.78 2.81-2.81c.8-.78.8-2.07 0-2.86zM5.41 20L4 18.59l7.72-7.72 1.47 1.35L5.41 20z\"/>\n",
              "  </svg>\n",
              "      </button>\n",
              "      \n",
              "  <style>\n",
              "    .colab-df-container {\n",
              "      display:flex;\n",
              "      flex-wrap:wrap;\n",
              "      gap: 12px;\n",
              "    }\n",
              "\n",
              "    .colab-df-convert {\n",
              "      background-color: #E8F0FE;\n",
              "      border: none;\n",
              "      border-radius: 50%;\n",
              "      cursor: pointer;\n",
              "      display: none;\n",
              "      fill: #1967D2;\n",
              "      height: 32px;\n",
              "      padding: 0 0 0 0;\n",
              "      width: 32px;\n",
              "    }\n",
              "\n",
              "    .colab-df-convert:hover {\n",
              "      background-color: #E2EBFA;\n",
              "      box-shadow: 0px 1px 2px rgba(60, 64, 67, 0.3), 0px 1px 3px 1px rgba(60, 64, 67, 0.15);\n",
              "      fill: #174EA6;\n",
              "    }\n",
              "\n",
              "    [theme=dark] .colab-df-convert {\n",
              "      background-color: #3B4455;\n",
              "      fill: #D2E3FC;\n",
              "    }\n",
              "\n",
              "    [theme=dark] .colab-df-convert:hover {\n",
              "      background-color: #434B5C;\n",
              "      box-shadow: 0px 1px 3px 1px rgba(0, 0, 0, 0.15);\n",
              "      filter: drop-shadow(0px 1px 2px rgba(0, 0, 0, 0.3));\n",
              "      fill: #FFFFFF;\n",
              "    }\n",
              "  </style>\n",
              "\n",
              "      <script>\n",
              "        const buttonEl =\n",
              "          document.querySelector('#df-3c34a5f7-5d67-445a-9e99-d9f6843942ec button.colab-df-convert');\n",
              "        buttonEl.style.display =\n",
              "          google.colab.kernel.accessAllowed ? 'block' : 'none';\n",
              "\n",
              "        async function convertToInteractive(key) {\n",
              "          const element = document.querySelector('#df-3c34a5f7-5d67-445a-9e99-d9f6843942ec');\n",
              "          const dataTable =\n",
              "            await google.colab.kernel.invokeFunction('convertToInteractive',\n",
              "                                                     [key], {});\n",
              "          if (!dataTable) return;\n",
              "\n",
              "          const docLinkHtml = 'Like what you see? Visit the ' +\n",
              "            '<a target=\"_blank\" href=https://colab.research.google.com/notebooks/data_table.ipynb>data table notebook</a>'\n",
              "            + ' to learn more about interactive tables.';\n",
              "          element.innerHTML = '';\n",
              "          dataTable['output_type'] = 'display_data';\n",
              "          await google.colab.output.renderOutput(dataTable, element);\n",
              "          const docLink = document.createElement('div');\n",
              "          docLink.innerHTML = docLinkHtml;\n",
              "          element.appendChild(docLink);\n",
              "        }\n",
              "      </script>\n",
              "    </div>\n",
              "  </div>\n",
              "  "
            ]
          },
          "metadata": {},
          "execution_count": 2
        }
      ],
      "source": [
        "data = pd.read_csv('IMDB-Movie-Data.csv')\n",
        "print(data.shape)\n",
        "\n",
        "data.head(3)"
      ]
    },
    {
      "cell_type": "markdown",
      "metadata": {
        "id": "MNSlJIr_Tx27"
      },
      "source": [
        "## Что делать с NaN?\n",
        "Я выбрал убрать строки с NaN, так как NaN содержат столбцы с информацией о сборах и метаскоре. Мне кажется, что приравнивать к нулю эти данные было бы некорректно."
      ]
    },
    {
      "cell_type": "code",
      "execution_count": 3,
      "metadata": {
        "colab": {
          "base_uri": "https://localhost:8080/"
        },
        "id": "YkXcSnVtTx27",
        "outputId": "3adfe8cf-3aec-4ef8-f81e-9123890e51d3"
      },
      "outputs": [
        {
          "output_type": "stream",
          "name": "stdout",
          "text": [
            "Rank                  False\n",
            "Title                 False\n",
            "Genre                 False\n",
            "Description           False\n",
            "Director              False\n",
            "Actors                False\n",
            "Year                  False\n",
            "Runtime (Minutes)     False\n",
            "Rating                False\n",
            "Votes                 False\n",
            "Revenue (Millions)     True\n",
            "Metascore              True\n",
            "dtype: bool\n"
          ]
        },
        {
          "output_type": "execute_result",
          "data": {
            "text/plain": [
              "(1000, 12)"
            ]
          },
          "metadata": {},
          "execution_count": 3
        }
      ],
      "source": [
        "# 1. Убрать строки с NaN\n",
        "print(data.isna().any())\n",
        "data.shape"
      ]
    },
    {
      "cell_type": "code",
      "source": [
        "print(data.shape)\n",
        "data = data.dropna()\n",
        "data.shape"
      ],
      "metadata": {
        "colab": {
          "base_uri": "https://localhost:8080/"
        },
        "id": "3fwskl6bUX3g",
        "outputId": "9ce8aefb-c6df-43a2-e443-f74a3d613aff"
      },
      "execution_count": 4,
      "outputs": [
        {
          "output_type": "stream",
          "name": "stdout",
          "text": [
            "(1000, 12)\n"
          ]
        },
        {
          "output_type": "execute_result",
          "data": {
            "text/plain": [
              "(838, 12)"
            ]
          },
          "metadata": {},
          "execution_count": 4
        }
      ]
    },
    {
      "cell_type": "markdown",
      "metadata": {
        "id": "mI_L8cz_Tx29"
      },
      "source": [
        "## Подготовка данных\n",
        "\n",
        "Попробуем предсказывать рейтинг фильма по данным его описания, года, длины в минутах и кассовых сборов\n",
        "\n",
        "Колонка \"Rating\" станет **целевой переменной, или таргетом** (y)<br>\n",
        "Остальных данные будут **обучающей выборкой** (X)"
      ]
    },
    {
      "cell_type": "code",
      "execution_count": 5,
      "metadata": {
        "colab": {
          "base_uri": "https://localhost:8080/"
        },
        "id": "exs9ja4kTx29",
        "outputId": "99b156b4-858d-4b3e-ce00-a32067c405e2"
      },
      "outputs": [
        {
          "output_type": "execute_result",
          "data": {
            "text/plain": [
              "0      A group of intergalactic criminals are forced ...\n",
              "1      Following clues to the origin of mankind, a te...\n",
              "2      Three girls are kidnapped by a man with a diag...\n",
              "3      In a city of humanoid animals, a hustling thea...\n",
              "4      A secret government agency recruits some of th...\n",
              "                             ...                        \n",
              "993    While still out to destroy the evil Umbrella C...\n",
              "994    3 high school seniors throw a birthday party t...\n",
              "996    Three American college students studying abroa...\n",
              "997    Romantic sparks occur between two dance studen...\n",
              "999    A stuffy businessman finds himself trapped ins...\n",
              "Name: Description, Length: 838, dtype: object"
            ]
          },
          "metadata": {},
          "execution_count": 5
        }
      ],
      "source": [
        "data.Description"
      ]
    },
    {
      "cell_type": "code",
      "execution_count": 6,
      "metadata": {
        "tags": [],
        "colab": {
          "base_uri": "https://localhost:8080/"
        },
        "id": "Jx3SPpSMTx2-",
        "outputId": "7e587197-0dc4-40a4-e589-8b617deab747"
      },
      "outputs": [
        {
          "output_type": "execute_result",
          "data": {
            "text/plain": [
              "0      [a, group, of, intergalactic, criminals, are, ...\n",
              "1      [following, clues, to, the, origin, of, mankin...\n",
              "2      [three, girls, are, kidnapped, by, a, man, wit...\n",
              "3      [in, a, city, of, humanoid, animals,, a, hustl...\n",
              "4      [a, secret, government, agency, recruits, some...\n",
              "                             ...                        \n",
              "993    [while, still, out, to, destroy, the, evil, um...\n",
              "994    [3, high, school, seniors, throw, a, birthday,...\n",
              "996    [three, american, college, students, studying,...\n",
              "997    [romantic, sparks, occur, between, two, dance,...\n",
              "999    [a, stuffy, businessman, finds, himself, trapp...\n",
              "Name: text, Length: 838, dtype: object"
            ]
          },
          "metadata": {},
          "execution_count": 6
        }
      ],
      "source": [
        "# подготовим описания фильмов\n",
        "data[\"text\"] = data.Description.apply(lambda x: x.lower().split()) \n",
        "\n",
        "data[\"text\"]"
      ]
    },
    {
      "cell_type": "code",
      "execution_count": 7,
      "metadata": {
        "tags": [],
        "colab": {
          "base_uri": "https://localhost:8080/"
        },
        "id": "jrqBwNvMTx2-",
        "outputId": "f7ca58ce-1537-4670-8e3f-9e5d90d66d45"
      },
      "outputs": [
        {
          "output_type": "execute_result",
          "data": {
            "text/plain": [
              "array([list(['a', 'group', 'of', 'intergalactic', 'criminals', 'are', 'forced', 'to', 'work', 'together', 'to', 'stop', 'a', 'fanatical', 'warrior', 'from', 'taking', 'control', 'of', 'the', 'universe.']),\n",
              "       list(['following', 'clues', 'to', 'the', 'origin', 'of', 'mankind,', 'a', 'team', 'finds', 'a', 'structure', 'on', 'a', 'distant', 'moon,', 'but', 'they', 'soon', 'realize', 'they', 'are', 'not', 'alone.']),\n",
              "       list(['three', 'girls', 'are', 'kidnapped', 'by', 'a', 'man', 'with', 'a', 'diagnosed', '23', 'distinct', 'personalities.', 'they', 'must', 'try', 'to', 'escape', 'before', 'the', 'apparent', 'emergence', 'of', 'a', 'frightful', 'new', '24th.']),\n",
              "       list(['in', 'a', 'city', 'of', 'humanoid', 'animals,', 'a', 'hustling', 'theater', \"impresario's\", 'attempt', 'to', 'save', 'his', 'theater', 'with', 'a', 'singing', 'competition', 'becomes', 'grander', 'than', 'he', 'anticipates', 'even', 'as', 'its', \"finalists'\", 'find', 'that', 'their', 'lives', 'will', 'never', 'be', 'the', 'same.']),\n",
              "       list(['a', 'secret', 'government', 'agency', 'recruits', 'some', 'of', 'the', 'most', 'dangerous', 'incarcerated', 'super-villains', 'to', 'form', 'a', 'defensive', 'task', 'force.', 'their', 'first', 'mission:', 'save', 'the', 'world', 'from', 'the', 'apocalypse.']),\n",
              "       list(['european', 'mercenaries', 'searching', 'for', 'black', 'powder', 'become', 'embroiled', 'in', 'the', 'defense', 'of', 'the', 'great', 'wall', 'of', 'china', 'against', 'a', 'horde', 'of', 'monstrous', 'creatures.']),\n",
              "       list(['a', 'jazz', 'pianist', 'falls', 'for', 'an', 'aspiring', 'actress', 'in', 'los', 'angeles.']),\n",
              "       list(['a', 'true-life', 'drama,', 'centering', 'on', 'british', 'explorer', 'col.', 'percival', 'fawcett,', 'who', 'disappeared', 'while', 'searching', 'for', 'a', 'mysterious', 'city', 'in', 'the', 'amazon', 'in', 'the', '1920s.']),\n",
              "       list(['a', 'spacecraft', 'traveling', 'to', 'a', 'distant', 'colony', 'planet', 'and', 'transporting', 'thousands', 'of', 'people', 'has', 'a', 'malfunction', 'in', 'its', 'sleep', 'chambers.', 'as', 'a', 'result,', 'two', 'passengers', 'are', 'awakened', '90', 'years', 'early.']),\n",
              "       list(['the', 'adventures', 'of', 'writer', 'newt', 'scamander', 'in', 'new', \"york's\", 'secret', 'community', 'of', 'witches', 'and', 'wizards', 'seventy', 'years', 'before', 'harry', 'potter', 'reads', 'his', 'book', 'in', 'school.'])],\n",
              "      dtype=object)"
            ]
          },
          "metadata": {},
          "execution_count": 7
        }
      ],
      "source": [
        "data.text.values[:10]"
      ]
    },
    {
      "cell_type": "code",
      "execution_count": 8,
      "metadata": {
        "tags": [],
        "id": "GV515qmITx2-"
      },
      "outputs": [],
      "source": [
        "input_text = list(data.text.values)"
      ]
    },
    {
      "cell_type": "code",
      "execution_count": 9,
      "metadata": {
        "tags": [],
        "colab": {
          "base_uri": "https://localhost:8080/"
        },
        "id": "PbTRk3X4Tx2_",
        "outputId": "7480c95b-3c2e-43c0-e033-2c029387b302"
      },
      "outputs": [
        {
          "output_type": "execute_result",
          "data": {
            "text/plain": [
              "[TaggedDocument(words=['the', 'story', 'of', 'a', 'team', 'of', 'female', 'african-american', 'mathematicians', 'who', 'served', 'a', 'vital', 'role', 'in', 'nasa', 'during', 'the', 'early', 'years', 'of', 'the', 'u.s.', 'space', 'program.'], tags=[10]),\n",
              " TaggedDocument(words=['the', 'rebel', 'alliance', 'makes', 'a', 'risky', 'move', 'to', 'steal', 'the', 'plans', 'for', 'the', 'death', 'star,', 'setting', 'up', 'the', 'epic', 'saga', 'to', 'follow.'], tags=[11])]"
            ]
          },
          "metadata": {},
          "execution_count": 9
        }
      ],
      "source": [
        "documents = [TaggedDocument(doc, [i]) for i, doc in enumerate(input_text)]\n",
        "documents[10:12]"
      ]
    },
    {
      "cell_type": "markdown",
      "metadata": {
        "id": "1OEAWo2fTx2_"
      },
      "source": [
        "обучаем модель на текстах описаний фильмов (можно поизменять параметры)"
      ]
    },
    {
      "cell_type": "code",
      "execution_count": 10,
      "metadata": {
        "colab": {
          "base_uri": "https://localhost:8080/"
        },
        "id": "wGeC7Tv5Tx3A",
        "outputId": "a3ede542-099e-48c7-8103-856bc31c8b11"
      },
      "outputs": [
        {
          "output_type": "stream",
          "name": "stderr",
          "text": [
            "WARNING:gensim.models.base_any2vec:consider setting layer size to a multiple of 4 for greater performance\n",
            "WARNING:gensim.models.base_any2vec:under 10 jobs per worker: consider setting a smaller `batch_words' for smoother alpha decay\n"
          ]
        }
      ],
      "source": [
        "model = Doc2Vec(documents, vector_size=5, window=2, min_count=1, workers=4)"
      ]
    },
    {
      "cell_type": "code",
      "execution_count": 11,
      "metadata": {
        "id": "i6BM_TlcTx3A"
      },
      "outputs": [],
      "source": [
        "model.save(\"D2V.model\") # сохранение модели"
      ]
    },
    {
      "cell_type": "code",
      "execution_count": 12,
      "metadata": {
        "colab": {
          "base_uri": "https://localhost:8080/"
        },
        "id": "4FYmCbYITx3A",
        "outputId": "4422e65a-4d4a-42b0-905c-9807f38a0d5f"
      },
      "outputs": [
        {
          "output_type": "execute_result",
          "data": {
            "text/plain": [
              "array([ 0.08111026, -0.09000318,  0.02996959, -0.0562246 ,  0.08877965],\n",
              "      dtype=float32)"
            ]
          },
          "metadata": {},
          "execution_count": 12
        }
      ],
      "source": [
        "# так можно посмотреть на векторы текстов, на которых училась модель\n",
        "# индекс [] около documents -- это индекс текста из датасета\n",
        "\n",
        "model[documents[0].tags[0]]\n"
      ]
    },
    {
      "cell_type": "markdown",
      "metadata": {
        "id": "i2yjFmUGTx3B"
      },
      "source": [
        "Теперь нужно добавить векторы в датасет с остальными параметрами"
      ]
    },
    {
      "cell_type": "code",
      "execution_count": 13,
      "metadata": {
        "id": "pGbhXhstTx3B"
      },
      "outputs": [],
      "source": [
        "# создадим список с векторами для каждого текста\n",
        "vectors = []\n",
        "for x in documents:\n",
        "    vec = list(model[x.tags][0])\n",
        "    vectors.append(vec)"
      ]
    },
    {
      "cell_type": "code",
      "execution_count": 14,
      "metadata": {
        "tags": [],
        "colab": {
          "base_uri": "https://localhost:8080/",
          "height": 419
        },
        "id": "FWHYVMZjTx3C",
        "outputId": "8009ea72-8d0a-4606-87d1-7be8e1be407e"
      },
      "outputs": [
        {
          "output_type": "execute_result",
          "data": {
            "text/plain": [
              "           v1        v2        v3        v4        v5\n",
              "0    0.081110 -0.090003  0.029970 -0.056225  0.088780\n",
              "1   -0.118023 -0.011983 -0.093576  0.069062  0.060961\n",
              "2    0.030247  0.024422 -0.000969 -0.092455  0.025182\n",
              "3    0.042027 -0.041914 -0.055413  0.051266  0.042590\n",
              "4    0.034391  0.070055 -0.116559 -0.087874  0.006900\n",
              "..        ...       ...       ...       ...       ...\n",
              "833  0.010773 -0.063559 -0.159734 -0.084096  0.009784\n",
              "834 -0.106769  0.050991 -0.083262 -0.029523  0.086028\n",
              "835 -0.093891  0.021157  0.051523 -0.003181 -0.059544\n",
              "836 -0.064760 -0.041579  0.005948  0.038824  0.026079\n",
              "837 -0.056144  0.056042  0.044420 -0.067455 -0.058627\n",
              "\n",
              "[838 rows x 5 columns]"
            ],
            "text/html": [
              "\n",
              "  <div id=\"df-97a79035-66d4-4342-afaf-ea4222aef857\">\n",
              "    <div class=\"colab-df-container\">\n",
              "      <div>\n",
              "<style scoped>\n",
              "    .dataframe tbody tr th:only-of-type {\n",
              "        vertical-align: middle;\n",
              "    }\n",
              "\n",
              "    .dataframe tbody tr th {\n",
              "        vertical-align: top;\n",
              "    }\n",
              "\n",
              "    .dataframe thead th {\n",
              "        text-align: right;\n",
              "    }\n",
              "</style>\n",
              "<table border=\"1\" class=\"dataframe\">\n",
              "  <thead>\n",
              "    <tr style=\"text-align: right;\">\n",
              "      <th></th>\n",
              "      <th>v1</th>\n",
              "      <th>v2</th>\n",
              "      <th>v3</th>\n",
              "      <th>v4</th>\n",
              "      <th>v5</th>\n",
              "    </tr>\n",
              "  </thead>\n",
              "  <tbody>\n",
              "    <tr>\n",
              "      <th>0</th>\n",
              "      <td>0.081110</td>\n",
              "      <td>-0.090003</td>\n",
              "      <td>0.029970</td>\n",
              "      <td>-0.056225</td>\n",
              "      <td>0.088780</td>\n",
              "    </tr>\n",
              "    <tr>\n",
              "      <th>1</th>\n",
              "      <td>-0.118023</td>\n",
              "      <td>-0.011983</td>\n",
              "      <td>-0.093576</td>\n",
              "      <td>0.069062</td>\n",
              "      <td>0.060961</td>\n",
              "    </tr>\n",
              "    <tr>\n",
              "      <th>2</th>\n",
              "      <td>0.030247</td>\n",
              "      <td>0.024422</td>\n",
              "      <td>-0.000969</td>\n",
              "      <td>-0.092455</td>\n",
              "      <td>0.025182</td>\n",
              "    </tr>\n",
              "    <tr>\n",
              "      <th>3</th>\n",
              "      <td>0.042027</td>\n",
              "      <td>-0.041914</td>\n",
              "      <td>-0.055413</td>\n",
              "      <td>0.051266</td>\n",
              "      <td>0.042590</td>\n",
              "    </tr>\n",
              "    <tr>\n",
              "      <th>4</th>\n",
              "      <td>0.034391</td>\n",
              "      <td>0.070055</td>\n",
              "      <td>-0.116559</td>\n",
              "      <td>-0.087874</td>\n",
              "      <td>0.006900</td>\n",
              "    </tr>\n",
              "    <tr>\n",
              "      <th>...</th>\n",
              "      <td>...</td>\n",
              "      <td>...</td>\n",
              "      <td>...</td>\n",
              "      <td>...</td>\n",
              "      <td>...</td>\n",
              "    </tr>\n",
              "    <tr>\n",
              "      <th>833</th>\n",
              "      <td>0.010773</td>\n",
              "      <td>-0.063559</td>\n",
              "      <td>-0.159734</td>\n",
              "      <td>-0.084096</td>\n",
              "      <td>0.009784</td>\n",
              "    </tr>\n",
              "    <tr>\n",
              "      <th>834</th>\n",
              "      <td>-0.106769</td>\n",
              "      <td>0.050991</td>\n",
              "      <td>-0.083262</td>\n",
              "      <td>-0.029523</td>\n",
              "      <td>0.086028</td>\n",
              "    </tr>\n",
              "    <tr>\n",
              "      <th>835</th>\n",
              "      <td>-0.093891</td>\n",
              "      <td>0.021157</td>\n",
              "      <td>0.051523</td>\n",
              "      <td>-0.003181</td>\n",
              "      <td>-0.059544</td>\n",
              "    </tr>\n",
              "    <tr>\n",
              "      <th>836</th>\n",
              "      <td>-0.064760</td>\n",
              "      <td>-0.041579</td>\n",
              "      <td>0.005948</td>\n",
              "      <td>0.038824</td>\n",
              "      <td>0.026079</td>\n",
              "    </tr>\n",
              "    <tr>\n",
              "      <th>837</th>\n",
              "      <td>-0.056144</td>\n",
              "      <td>0.056042</td>\n",
              "      <td>0.044420</td>\n",
              "      <td>-0.067455</td>\n",
              "      <td>-0.058627</td>\n",
              "    </tr>\n",
              "  </tbody>\n",
              "</table>\n",
              "<p>838 rows × 5 columns</p>\n",
              "</div>\n",
              "      <button class=\"colab-df-convert\" onclick=\"convertToInteractive('df-97a79035-66d4-4342-afaf-ea4222aef857')\"\n",
              "              title=\"Convert this dataframe to an interactive table.\"\n",
              "              style=\"display:none;\">\n",
              "        \n",
              "  <svg xmlns=\"http://www.w3.org/2000/svg\" height=\"24px\"viewBox=\"0 0 24 24\"\n",
              "       width=\"24px\">\n",
              "    <path d=\"M0 0h24v24H0V0z\" fill=\"none\"/>\n",
              "    <path d=\"M18.56 5.44l.94 2.06.94-2.06 2.06-.94-2.06-.94-.94-2.06-.94 2.06-2.06.94zm-11 1L8.5 8.5l.94-2.06 2.06-.94-2.06-.94L8.5 2.5l-.94 2.06-2.06.94zm10 10l.94 2.06.94-2.06 2.06-.94-2.06-.94-.94-2.06-.94 2.06-2.06.94z\"/><path d=\"M17.41 7.96l-1.37-1.37c-.4-.4-.92-.59-1.43-.59-.52 0-1.04.2-1.43.59L10.3 9.45l-7.72 7.72c-.78.78-.78 2.05 0 2.83L4 21.41c.39.39.9.59 1.41.59.51 0 1.02-.2 1.41-.59l7.78-7.78 2.81-2.81c.8-.78.8-2.07 0-2.86zM5.41 20L4 18.59l7.72-7.72 1.47 1.35L5.41 20z\"/>\n",
              "  </svg>\n",
              "      </button>\n",
              "      \n",
              "  <style>\n",
              "    .colab-df-container {\n",
              "      display:flex;\n",
              "      flex-wrap:wrap;\n",
              "      gap: 12px;\n",
              "    }\n",
              "\n",
              "    .colab-df-convert {\n",
              "      background-color: #E8F0FE;\n",
              "      border: none;\n",
              "      border-radius: 50%;\n",
              "      cursor: pointer;\n",
              "      display: none;\n",
              "      fill: #1967D2;\n",
              "      height: 32px;\n",
              "      padding: 0 0 0 0;\n",
              "      width: 32px;\n",
              "    }\n",
              "\n",
              "    .colab-df-convert:hover {\n",
              "      background-color: #E2EBFA;\n",
              "      box-shadow: 0px 1px 2px rgba(60, 64, 67, 0.3), 0px 1px 3px 1px rgba(60, 64, 67, 0.15);\n",
              "      fill: #174EA6;\n",
              "    }\n",
              "\n",
              "    [theme=dark] .colab-df-convert {\n",
              "      background-color: #3B4455;\n",
              "      fill: #D2E3FC;\n",
              "    }\n",
              "\n",
              "    [theme=dark] .colab-df-convert:hover {\n",
              "      background-color: #434B5C;\n",
              "      box-shadow: 0px 1px 3px 1px rgba(0, 0, 0, 0.15);\n",
              "      filter: drop-shadow(0px 1px 2px rgba(0, 0, 0, 0.3));\n",
              "      fill: #FFFFFF;\n",
              "    }\n",
              "  </style>\n",
              "\n",
              "      <script>\n",
              "        const buttonEl =\n",
              "          document.querySelector('#df-97a79035-66d4-4342-afaf-ea4222aef857 button.colab-df-convert');\n",
              "        buttonEl.style.display =\n",
              "          google.colab.kernel.accessAllowed ? 'block' : 'none';\n",
              "\n",
              "        async function convertToInteractive(key) {\n",
              "          const element = document.querySelector('#df-97a79035-66d4-4342-afaf-ea4222aef857');\n",
              "          const dataTable =\n",
              "            await google.colab.kernel.invokeFunction('convertToInteractive',\n",
              "                                                     [key], {});\n",
              "          if (!dataTable) return;\n",
              "\n",
              "          const docLinkHtml = 'Like what you see? Visit the ' +\n",
              "            '<a target=\"_blank\" href=https://colab.research.google.com/notebooks/data_table.ipynb>data table notebook</a>'\n",
              "            + ' to learn more about interactive tables.';\n",
              "          element.innerHTML = '';\n",
              "          dataTable['output_type'] = 'display_data';\n",
              "          await google.colab.output.renderOutput(dataTable, element);\n",
              "          const docLink = document.createElement('div');\n",
              "          docLink.innerHTML = docLinkHtml;\n",
              "          element.appendChild(docLink);\n",
              "        }\n",
              "      </script>\n",
              "    </div>\n",
              "  </div>\n",
              "  "
            ]
          },
          "metadata": {},
          "execution_count": 14
        }
      ],
      "source": [
        "# так получим датафрейм, где все компоненты векторов в отдельных столбцах\n",
        "split_df = pd.DataFrame(vectors,\n",
        "                        columns=['v1', 'v2', 'v3','v4',\"v5\"])\n",
        "\n",
        "split_df\n"
      ]
    },
    {
      "cell_type": "code",
      "execution_count": 15,
      "metadata": {
        "colab": {
          "base_uri": "https://localhost:8080/"
        },
        "id": "HwAaKiJsTx3C",
        "outputId": "ceabc8b5-000f-4f59-f064-80d2ac214823"
      },
      "outputs": [
        {
          "output_type": "execute_result",
          "data": {
            "text/plain": [
              "(838, 18)"
            ]
          },
          "metadata": {},
          "execution_count": 15
        }
      ],
      "source": [
        "# теперь добавим его к основному датафрейму\n",
        "result = data.join(split_df, how='left')\n",
        "result.shape"
      ]
    },
    {
      "cell_type": "code",
      "execution_count": 16,
      "metadata": {
        "colab": {
          "base_uri": "https://localhost:8080/",
          "height": 608
        },
        "id": "B15s39jNTx3C",
        "outputId": "91c5a4f2-72a5-49a6-bf65-48851a6cb634"
      },
      "outputs": [
        {
          "output_type": "execute_result",
          "data": {
            "text/plain": [
              "   Rank                    Title                     Genre  \\\n",
              "0     1  Guardians of the Galaxy   Action,Adventure,Sci-Fi   \n",
              "1     2               Prometheus  Adventure,Mystery,Sci-Fi   \n",
              "2     3                    Split           Horror,Thriller   \n",
              "3     4                     Sing   Animation,Comedy,Family   \n",
              "4     5            Suicide Squad  Action,Adventure,Fantasy   \n",
              "\n",
              "                                         Description              Director  \\\n",
              "0  A group of intergalactic criminals are forced ...            James Gunn   \n",
              "1  Following clues to the origin of mankind, a te...          Ridley Scott   \n",
              "2  Three girls are kidnapped by a man with a diag...    M. Night Shyamalan   \n",
              "3  In a city of humanoid animals, a hustling thea...  Christophe Lourdelet   \n",
              "4  A secret government agency recruits some of th...            David Ayer   \n",
              "\n",
              "                                              Actors  Year  Runtime (Minutes)  \\\n",
              "0  Chris Pratt, Vin Diesel, Bradley Cooper, Zoe S...  2014                121   \n",
              "1  Noomi Rapace, Logan Marshall-Green, Michael Fa...  2012                124   \n",
              "2  James McAvoy, Anya Taylor-Joy, Haley Lu Richar...  2016                117   \n",
              "3  Matthew McConaughey,Reese Witherspoon, Seth Ma...  2016                108   \n",
              "4  Will Smith, Jared Leto, Margot Robbie, Viola D...  2016                123   \n",
              "\n",
              "   Rating   Votes  Revenue (Millions)  Metascore  \\\n",
              "0     8.1  757074              333.13       76.0   \n",
              "1     7.0  485820              126.46       65.0   \n",
              "2     7.3  157606              138.12       62.0   \n",
              "3     7.2   60545              270.32       59.0   \n",
              "4     6.2  393727              325.02       40.0   \n",
              "\n",
              "                                                text        v1        v2  \\\n",
              "0  [a, group, of, intergalactic, criminals, are, ...  0.081110 -0.090003   \n",
              "1  [following, clues, to, the, origin, of, mankin... -0.118023 -0.011983   \n",
              "2  [three, girls, are, kidnapped, by, a, man, wit...  0.030247  0.024422   \n",
              "3  [in, a, city, of, humanoid, animals,, a, hustl...  0.042027 -0.041914   \n",
              "4  [a, secret, government, agency, recruits, some...  0.034391  0.070055   \n",
              "\n",
              "         v3        v4        v5  \n",
              "0  0.029970 -0.056225  0.088780  \n",
              "1 -0.093576  0.069062  0.060961  \n",
              "2 -0.000969 -0.092455  0.025182  \n",
              "3 -0.055413  0.051266  0.042590  \n",
              "4 -0.116559 -0.087874  0.006900  "
            ],
            "text/html": [
              "\n",
              "  <div id=\"df-e9818305-c4fc-464f-8093-f96ecfe36d9f\">\n",
              "    <div class=\"colab-df-container\">\n",
              "      <div>\n",
              "<style scoped>\n",
              "    .dataframe tbody tr th:only-of-type {\n",
              "        vertical-align: middle;\n",
              "    }\n",
              "\n",
              "    .dataframe tbody tr th {\n",
              "        vertical-align: top;\n",
              "    }\n",
              "\n",
              "    .dataframe thead th {\n",
              "        text-align: right;\n",
              "    }\n",
              "</style>\n",
              "<table border=\"1\" class=\"dataframe\">\n",
              "  <thead>\n",
              "    <tr style=\"text-align: right;\">\n",
              "      <th></th>\n",
              "      <th>Rank</th>\n",
              "      <th>Title</th>\n",
              "      <th>Genre</th>\n",
              "      <th>Description</th>\n",
              "      <th>Director</th>\n",
              "      <th>Actors</th>\n",
              "      <th>Year</th>\n",
              "      <th>Runtime (Minutes)</th>\n",
              "      <th>Rating</th>\n",
              "      <th>Votes</th>\n",
              "      <th>Revenue (Millions)</th>\n",
              "      <th>Metascore</th>\n",
              "      <th>text</th>\n",
              "      <th>v1</th>\n",
              "      <th>v2</th>\n",
              "      <th>v3</th>\n",
              "      <th>v4</th>\n",
              "      <th>v5</th>\n",
              "    </tr>\n",
              "  </thead>\n",
              "  <tbody>\n",
              "    <tr>\n",
              "      <th>0</th>\n",
              "      <td>1</td>\n",
              "      <td>Guardians of the Galaxy</td>\n",
              "      <td>Action,Adventure,Sci-Fi</td>\n",
              "      <td>A group of intergalactic criminals are forced ...</td>\n",
              "      <td>James Gunn</td>\n",
              "      <td>Chris Pratt, Vin Diesel, Bradley Cooper, Zoe S...</td>\n",
              "      <td>2014</td>\n",
              "      <td>121</td>\n",
              "      <td>8.1</td>\n",
              "      <td>757074</td>\n",
              "      <td>333.13</td>\n",
              "      <td>76.0</td>\n",
              "      <td>[a, group, of, intergalactic, criminals, are, ...</td>\n",
              "      <td>0.081110</td>\n",
              "      <td>-0.090003</td>\n",
              "      <td>0.029970</td>\n",
              "      <td>-0.056225</td>\n",
              "      <td>0.088780</td>\n",
              "    </tr>\n",
              "    <tr>\n",
              "      <th>1</th>\n",
              "      <td>2</td>\n",
              "      <td>Prometheus</td>\n",
              "      <td>Adventure,Mystery,Sci-Fi</td>\n",
              "      <td>Following clues to the origin of mankind, a te...</td>\n",
              "      <td>Ridley Scott</td>\n",
              "      <td>Noomi Rapace, Logan Marshall-Green, Michael Fa...</td>\n",
              "      <td>2012</td>\n",
              "      <td>124</td>\n",
              "      <td>7.0</td>\n",
              "      <td>485820</td>\n",
              "      <td>126.46</td>\n",
              "      <td>65.0</td>\n",
              "      <td>[following, clues, to, the, origin, of, mankin...</td>\n",
              "      <td>-0.118023</td>\n",
              "      <td>-0.011983</td>\n",
              "      <td>-0.093576</td>\n",
              "      <td>0.069062</td>\n",
              "      <td>0.060961</td>\n",
              "    </tr>\n",
              "    <tr>\n",
              "      <th>2</th>\n",
              "      <td>3</td>\n",
              "      <td>Split</td>\n",
              "      <td>Horror,Thriller</td>\n",
              "      <td>Three girls are kidnapped by a man with a diag...</td>\n",
              "      <td>M. Night Shyamalan</td>\n",
              "      <td>James McAvoy, Anya Taylor-Joy, Haley Lu Richar...</td>\n",
              "      <td>2016</td>\n",
              "      <td>117</td>\n",
              "      <td>7.3</td>\n",
              "      <td>157606</td>\n",
              "      <td>138.12</td>\n",
              "      <td>62.0</td>\n",
              "      <td>[three, girls, are, kidnapped, by, a, man, wit...</td>\n",
              "      <td>0.030247</td>\n",
              "      <td>0.024422</td>\n",
              "      <td>-0.000969</td>\n",
              "      <td>-0.092455</td>\n",
              "      <td>0.025182</td>\n",
              "    </tr>\n",
              "    <tr>\n",
              "      <th>3</th>\n",
              "      <td>4</td>\n",
              "      <td>Sing</td>\n",
              "      <td>Animation,Comedy,Family</td>\n",
              "      <td>In a city of humanoid animals, a hustling thea...</td>\n",
              "      <td>Christophe Lourdelet</td>\n",
              "      <td>Matthew McConaughey,Reese Witherspoon, Seth Ma...</td>\n",
              "      <td>2016</td>\n",
              "      <td>108</td>\n",
              "      <td>7.2</td>\n",
              "      <td>60545</td>\n",
              "      <td>270.32</td>\n",
              "      <td>59.0</td>\n",
              "      <td>[in, a, city, of, humanoid, animals,, a, hustl...</td>\n",
              "      <td>0.042027</td>\n",
              "      <td>-0.041914</td>\n",
              "      <td>-0.055413</td>\n",
              "      <td>0.051266</td>\n",
              "      <td>0.042590</td>\n",
              "    </tr>\n",
              "    <tr>\n",
              "      <th>4</th>\n",
              "      <td>5</td>\n",
              "      <td>Suicide Squad</td>\n",
              "      <td>Action,Adventure,Fantasy</td>\n",
              "      <td>A secret government agency recruits some of th...</td>\n",
              "      <td>David Ayer</td>\n",
              "      <td>Will Smith, Jared Leto, Margot Robbie, Viola D...</td>\n",
              "      <td>2016</td>\n",
              "      <td>123</td>\n",
              "      <td>6.2</td>\n",
              "      <td>393727</td>\n",
              "      <td>325.02</td>\n",
              "      <td>40.0</td>\n",
              "      <td>[a, secret, government, agency, recruits, some...</td>\n",
              "      <td>0.034391</td>\n",
              "      <td>0.070055</td>\n",
              "      <td>-0.116559</td>\n",
              "      <td>-0.087874</td>\n",
              "      <td>0.006900</td>\n",
              "    </tr>\n",
              "  </tbody>\n",
              "</table>\n",
              "</div>\n",
              "      <button class=\"colab-df-convert\" onclick=\"convertToInteractive('df-e9818305-c4fc-464f-8093-f96ecfe36d9f')\"\n",
              "              title=\"Convert this dataframe to an interactive table.\"\n",
              "              style=\"display:none;\">\n",
              "        \n",
              "  <svg xmlns=\"http://www.w3.org/2000/svg\" height=\"24px\"viewBox=\"0 0 24 24\"\n",
              "       width=\"24px\">\n",
              "    <path d=\"M0 0h24v24H0V0z\" fill=\"none\"/>\n",
              "    <path d=\"M18.56 5.44l.94 2.06.94-2.06 2.06-.94-2.06-.94-.94-2.06-.94 2.06-2.06.94zm-11 1L8.5 8.5l.94-2.06 2.06-.94-2.06-.94L8.5 2.5l-.94 2.06-2.06.94zm10 10l.94 2.06.94-2.06 2.06-.94-2.06-.94-.94-2.06-.94 2.06-2.06.94z\"/><path d=\"M17.41 7.96l-1.37-1.37c-.4-.4-.92-.59-1.43-.59-.52 0-1.04.2-1.43.59L10.3 9.45l-7.72 7.72c-.78.78-.78 2.05 0 2.83L4 21.41c.39.39.9.59 1.41.59.51 0 1.02-.2 1.41-.59l7.78-7.78 2.81-2.81c.8-.78.8-2.07 0-2.86zM5.41 20L4 18.59l7.72-7.72 1.47 1.35L5.41 20z\"/>\n",
              "  </svg>\n",
              "      </button>\n",
              "      \n",
              "  <style>\n",
              "    .colab-df-container {\n",
              "      display:flex;\n",
              "      flex-wrap:wrap;\n",
              "      gap: 12px;\n",
              "    }\n",
              "\n",
              "    .colab-df-convert {\n",
              "      background-color: #E8F0FE;\n",
              "      border: none;\n",
              "      border-radius: 50%;\n",
              "      cursor: pointer;\n",
              "      display: none;\n",
              "      fill: #1967D2;\n",
              "      height: 32px;\n",
              "      padding: 0 0 0 0;\n",
              "      width: 32px;\n",
              "    }\n",
              "\n",
              "    .colab-df-convert:hover {\n",
              "      background-color: #E2EBFA;\n",
              "      box-shadow: 0px 1px 2px rgba(60, 64, 67, 0.3), 0px 1px 3px 1px rgba(60, 64, 67, 0.15);\n",
              "      fill: #174EA6;\n",
              "    }\n",
              "\n",
              "    [theme=dark] .colab-df-convert {\n",
              "      background-color: #3B4455;\n",
              "      fill: #D2E3FC;\n",
              "    }\n",
              "\n",
              "    [theme=dark] .colab-df-convert:hover {\n",
              "      background-color: #434B5C;\n",
              "      box-shadow: 0px 1px 3px 1px rgba(0, 0, 0, 0.15);\n",
              "      filter: drop-shadow(0px 1px 2px rgba(0, 0, 0, 0.3));\n",
              "      fill: #FFFFFF;\n",
              "    }\n",
              "  </style>\n",
              "\n",
              "      <script>\n",
              "        const buttonEl =\n",
              "          document.querySelector('#df-e9818305-c4fc-464f-8093-f96ecfe36d9f button.colab-df-convert');\n",
              "        buttonEl.style.display =\n",
              "          google.colab.kernel.accessAllowed ? 'block' : 'none';\n",
              "\n",
              "        async function convertToInteractive(key) {\n",
              "          const element = document.querySelector('#df-e9818305-c4fc-464f-8093-f96ecfe36d9f');\n",
              "          const dataTable =\n",
              "            await google.colab.kernel.invokeFunction('convertToInteractive',\n",
              "                                                     [key], {});\n",
              "          if (!dataTable) return;\n",
              "\n",
              "          const docLinkHtml = 'Like what you see? Visit the ' +\n",
              "            '<a target=\"_blank\" href=https://colab.research.google.com/notebooks/data_table.ipynb>data table notebook</a>'\n",
              "            + ' to learn more about interactive tables.';\n",
              "          element.innerHTML = '';\n",
              "          dataTable['output_type'] = 'display_data';\n",
              "          await google.colab.output.renderOutput(dataTable, element);\n",
              "          const docLink = document.createElement('div');\n",
              "          docLink.innerHTML = docLinkHtml;\n",
              "          element.appendChild(docLink);\n",
              "        }\n",
              "      </script>\n",
              "    </div>\n",
              "  </div>\n",
              "  "
            ]
          },
          "metadata": {},
          "execution_count": 16
        }
      ],
      "source": [
        "result.head()"
      ]
    },
    {
      "cell_type": "code",
      "execution_count": 17,
      "metadata": {
        "tags": [],
        "colab": {
          "base_uri": "https://localhost:8080/",
          "height": 186
        },
        "id": "ohIuPGGRTx3C",
        "outputId": "72393d58-e76d-4524-c178-820b402a2015"
      },
      "outputs": [
        {
          "output_type": "execute_result",
          "data": {
            "text/plain": [
              "   Runtime (Minutes)  Year  Rating   Votes  Revenue (Millions)  Metascore  \\\n",
              "0                121  2014     8.1  757074              333.13       76.0   \n",
              "1                124  2012     7.0  485820              126.46       65.0   \n",
              "2                117  2016     7.3  157606              138.12       62.0   \n",
              "\n",
              "         v1        v2        v3        v4        v5  \n",
              "0  0.081110 -0.090003  0.029970 -0.056225  0.088780  \n",
              "1 -0.118023 -0.011983 -0.093576  0.069062  0.060961  \n",
              "2  0.030247  0.024422 -0.000969 -0.092455  0.025182  "
            ],
            "text/html": [
              "\n",
              "  <div id=\"df-c59ecc66-ebbd-4cee-b5f7-6f745d3cf5af\">\n",
              "    <div class=\"colab-df-container\">\n",
              "      <div>\n",
              "<style scoped>\n",
              "    .dataframe tbody tr th:only-of-type {\n",
              "        vertical-align: middle;\n",
              "    }\n",
              "\n",
              "    .dataframe tbody tr th {\n",
              "        vertical-align: top;\n",
              "    }\n",
              "\n",
              "    .dataframe thead th {\n",
              "        text-align: right;\n",
              "    }\n",
              "</style>\n",
              "<table border=\"1\" class=\"dataframe\">\n",
              "  <thead>\n",
              "    <tr style=\"text-align: right;\">\n",
              "      <th></th>\n",
              "      <th>Runtime (Minutes)</th>\n",
              "      <th>Year</th>\n",
              "      <th>Rating</th>\n",
              "      <th>Votes</th>\n",
              "      <th>Revenue (Millions)</th>\n",
              "      <th>Metascore</th>\n",
              "      <th>v1</th>\n",
              "      <th>v2</th>\n",
              "      <th>v3</th>\n",
              "      <th>v4</th>\n",
              "      <th>v5</th>\n",
              "    </tr>\n",
              "  </thead>\n",
              "  <tbody>\n",
              "    <tr>\n",
              "      <th>0</th>\n",
              "      <td>121</td>\n",
              "      <td>2014</td>\n",
              "      <td>8.1</td>\n",
              "      <td>757074</td>\n",
              "      <td>333.13</td>\n",
              "      <td>76.0</td>\n",
              "      <td>0.081110</td>\n",
              "      <td>-0.090003</td>\n",
              "      <td>0.029970</td>\n",
              "      <td>-0.056225</td>\n",
              "      <td>0.088780</td>\n",
              "    </tr>\n",
              "    <tr>\n",
              "      <th>1</th>\n",
              "      <td>124</td>\n",
              "      <td>2012</td>\n",
              "      <td>7.0</td>\n",
              "      <td>485820</td>\n",
              "      <td>126.46</td>\n",
              "      <td>65.0</td>\n",
              "      <td>-0.118023</td>\n",
              "      <td>-0.011983</td>\n",
              "      <td>-0.093576</td>\n",
              "      <td>0.069062</td>\n",
              "      <td>0.060961</td>\n",
              "    </tr>\n",
              "    <tr>\n",
              "      <th>2</th>\n",
              "      <td>117</td>\n",
              "      <td>2016</td>\n",
              "      <td>7.3</td>\n",
              "      <td>157606</td>\n",
              "      <td>138.12</td>\n",
              "      <td>62.0</td>\n",
              "      <td>0.030247</td>\n",
              "      <td>0.024422</td>\n",
              "      <td>-0.000969</td>\n",
              "      <td>-0.092455</td>\n",
              "      <td>0.025182</td>\n",
              "    </tr>\n",
              "  </tbody>\n",
              "</table>\n",
              "</div>\n",
              "      <button class=\"colab-df-convert\" onclick=\"convertToInteractive('df-c59ecc66-ebbd-4cee-b5f7-6f745d3cf5af')\"\n",
              "              title=\"Convert this dataframe to an interactive table.\"\n",
              "              style=\"display:none;\">\n",
              "        \n",
              "  <svg xmlns=\"http://www.w3.org/2000/svg\" height=\"24px\"viewBox=\"0 0 24 24\"\n",
              "       width=\"24px\">\n",
              "    <path d=\"M0 0h24v24H0V0z\" fill=\"none\"/>\n",
              "    <path d=\"M18.56 5.44l.94 2.06.94-2.06 2.06-.94-2.06-.94-.94-2.06-.94 2.06-2.06.94zm-11 1L8.5 8.5l.94-2.06 2.06-.94-2.06-.94L8.5 2.5l-.94 2.06-2.06.94zm10 10l.94 2.06.94-2.06 2.06-.94-2.06-.94-.94-2.06-.94 2.06-2.06.94z\"/><path d=\"M17.41 7.96l-1.37-1.37c-.4-.4-.92-.59-1.43-.59-.52 0-1.04.2-1.43.59L10.3 9.45l-7.72 7.72c-.78.78-.78 2.05 0 2.83L4 21.41c.39.39.9.59 1.41.59.51 0 1.02-.2 1.41-.59l7.78-7.78 2.81-2.81c.8-.78.8-2.07 0-2.86zM5.41 20L4 18.59l7.72-7.72 1.47 1.35L5.41 20z\"/>\n",
              "  </svg>\n",
              "      </button>\n",
              "      \n",
              "  <style>\n",
              "    .colab-df-container {\n",
              "      display:flex;\n",
              "      flex-wrap:wrap;\n",
              "      gap: 12px;\n",
              "    }\n",
              "\n",
              "    .colab-df-convert {\n",
              "      background-color: #E8F0FE;\n",
              "      border: none;\n",
              "      border-radius: 50%;\n",
              "      cursor: pointer;\n",
              "      display: none;\n",
              "      fill: #1967D2;\n",
              "      height: 32px;\n",
              "      padding: 0 0 0 0;\n",
              "      width: 32px;\n",
              "    }\n",
              "\n",
              "    .colab-df-convert:hover {\n",
              "      background-color: #E2EBFA;\n",
              "      box-shadow: 0px 1px 2px rgba(60, 64, 67, 0.3), 0px 1px 3px 1px rgba(60, 64, 67, 0.15);\n",
              "      fill: #174EA6;\n",
              "    }\n",
              "\n",
              "    [theme=dark] .colab-df-convert {\n",
              "      background-color: #3B4455;\n",
              "      fill: #D2E3FC;\n",
              "    }\n",
              "\n",
              "    [theme=dark] .colab-df-convert:hover {\n",
              "      background-color: #434B5C;\n",
              "      box-shadow: 0px 1px 3px 1px rgba(0, 0, 0, 0.15);\n",
              "      filter: drop-shadow(0px 1px 2px rgba(0, 0, 0, 0.3));\n",
              "      fill: #FFFFFF;\n",
              "    }\n",
              "  </style>\n",
              "\n",
              "      <script>\n",
              "        const buttonEl =\n",
              "          document.querySelector('#df-c59ecc66-ebbd-4cee-b5f7-6f745d3cf5af button.colab-df-convert');\n",
              "        buttonEl.style.display =\n",
              "          google.colab.kernel.accessAllowed ? 'block' : 'none';\n",
              "\n",
              "        async function convertToInteractive(key) {\n",
              "          const element = document.querySelector('#df-c59ecc66-ebbd-4cee-b5f7-6f745d3cf5af');\n",
              "          const dataTable =\n",
              "            await google.colab.kernel.invokeFunction('convertToInteractive',\n",
              "                                                     [key], {});\n",
              "          if (!dataTable) return;\n",
              "\n",
              "          const docLinkHtml = 'Like what you see? Visit the ' +\n",
              "            '<a target=\"_blank\" href=https://colab.research.google.com/notebooks/data_table.ipynb>data table notebook</a>'\n",
              "            + ' to learn more about interactive tables.';\n",
              "          element.innerHTML = '';\n",
              "          dataTable['output_type'] = 'display_data';\n",
              "          await google.colab.output.renderOutput(dataTable, element);\n",
              "          const docLink = document.createElement('div');\n",
              "          docLink.innerHTML = docLinkHtml;\n",
              "          element.appendChild(docLink);\n",
              "        }\n",
              "      </script>\n",
              "    </div>\n",
              "  </div>\n",
              "  "
            ]
          },
          "metadata": {},
          "execution_count": 17
        }
      ],
      "source": [
        "# переопределим датасет, оставив только важное\n",
        "\n",
        "data_sm = result[['Runtime (Minutes)',\"Year\",\n",
        "                'Rating', 'Votes',\n",
        "                'Revenue (Millions)','Metascore',\"v1\",\"v2\",\"v3\",\"v4\",\"v5\"]\n",
        "              ]\n",
        "data_sm = data_sm.dropna()\n",
        "\n",
        "data_sm.head(3)"
      ]
    },
    {
      "cell_type": "markdown",
      "metadata": {
        "id": "FVg58VlVTx3D"
      },
      "source": [
        "## Подготавливаем матрицы"
      ]
    },
    {
      "cell_type": "code",
      "execution_count": 18,
      "metadata": {
        "tags": [],
        "colab": {
          "base_uri": "https://localhost:8080/",
          "height": 255
        },
        "id": "SM8I0I3JTx3D",
        "outputId": "62c78efe-9edb-4549-f4bc-51c75f35a25e"
      },
      "outputs": [
        {
          "output_type": "display_data",
          "data": {
            "text/plain": [
              "array([[ 1.21000000e+02,  2.01400000e+03,  7.57074000e+05, ...,\n",
              "         2.99695916e-02, -5.62245958e-02,  8.87796506e-02],\n",
              "       [ 1.24000000e+02,  2.01200000e+03,  4.85820000e+05, ...,\n",
              "        -9.35755372e-02,  6.90623075e-02,  6.09612428e-02],\n",
              "       [ 1.17000000e+02,  2.01600000e+03,  1.57606000e+05, ...,\n",
              "        -9.68868728e-04, -9.24545005e-02,  2.51820832e-02],\n",
              "       ...,\n",
              "       [ 1.08000000e+02,  2.01400000e+03,  3.88040000e+04, ...,\n",
              "         5.15228920e-02, -3.18115461e-03, -5.95437735e-02],\n",
              "       [ 1.28000000e+02,  2.01600000e+03,  5.53100000e+03, ...,\n",
              "         5.94843877e-03,  3.88236344e-02,  2.60794349e-02],\n",
              "       [ 1.13000000e+02,  2.00800000e+03,  1.63144000e+05, ...,\n",
              "         4.44201678e-02, -6.74552619e-02, -5.86266778e-02]])"
            ]
          },
          "metadata": {}
        },
        {
          "output_type": "display_data",
          "data": {
            "text/plain": [
              "(712, 10)"
            ]
          },
          "metadata": {}
        }
      ],
      "source": [
        "# определяем X и y\n",
        "\n",
        "X = data_sm.drop([\"Rating\"],axis=1).values \n",
        "\n",
        "display(X, X.shape)"
      ]
    },
    {
      "cell_type": "code",
      "execution_count": 19,
      "metadata": {
        "colab": {
          "base_uri": "https://localhost:8080/"
        },
        "id": "YucJm195Tx3D",
        "outputId": "d83e5afc-724c-43a4-95f6-183bc265dfeb"
      },
      "outputs": [
        {
          "output_type": "execute_result",
          "data": {
            "text/plain": [
              "Runtime (Minutes)     False\n",
              "Year                  False\n",
              "Rating                False\n",
              "Votes                 False\n",
              "Revenue (Millions)    False\n",
              "Metascore             False\n",
              "v1                    False\n",
              "v2                    False\n",
              "v3                    False\n",
              "v4                    False\n",
              "v5                    False\n",
              "dtype: bool"
            ]
          },
          "metadata": {},
          "execution_count": 19
        }
      ],
      "source": [
        "data_sm.isna().any()"
      ]
    },
    {
      "cell_type": "code",
      "execution_count": 20,
      "metadata": {
        "tags": [],
        "colab": {
          "base_uri": "https://localhost:8080/"
        },
        "id": "Xyk82AylTx3E",
        "outputId": "984cf08a-f482-448f-9109-7e81b7e4385a"
      },
      "outputs": [
        {
          "output_type": "execute_result",
          "data": {
            "text/plain": [
              "(712,)"
            ]
          },
          "metadata": {},
          "execution_count": 20
        }
      ],
      "source": [
        "y = data_sm['Rating'].values # отдельно вынесли массив со значениями скорости ветра\n",
        "y.shape"
      ]
    },
    {
      "cell_type": "markdown",
      "metadata": {
        "id": "BHFhB-dzTx3E"
      },
      "source": [
        "Иногда бывает полезно [нормализовать](https://en.wikipedia.org/wiki/Normalization_(statistics)) данные: это позволяет исправить ситуацию, когда признаки представлены в разных единацах измерения. \n",
        "Для этого используется StandardScaler. "
      ]
    },
    {
      "cell_type": "markdown",
      "metadata": {
        "id": "sCKwXtpzTx3E"
      },
      "source": [
        "До нормализации:"
      ]
    },
    {
      "cell_type": "code",
      "execution_count": 21,
      "metadata": {
        "colab": {
          "base_uri": "https://localhost:8080/"
        },
        "id": "qpa9rvbxTx3E",
        "outputId": "41ce00d7-c838-46a3-a182-c498997c5755"
      },
      "outputs": [
        {
          "output_type": "execute_result",
          "data": {
            "text/plain": [
              "[121.0,\n",
              " 2014.0,\n",
              " 757074.0,\n",
              " 333.13,\n",
              " 76.0,\n",
              " 0.08111026138067245,\n",
              " -0.09000318497419357,\n",
              " 0.02996959164738655,\n",
              " -0.05622459575533867,\n",
              " 0.08877965062856674]"
            ]
          },
          "metadata": {},
          "execution_count": 21
        }
      ],
      "source": [
        "list(X[0])"
      ]
    },
    {
      "cell_type": "code",
      "execution_count": 22,
      "metadata": {
        "id": "ZUu_buDKTx3E"
      },
      "outputs": [],
      "source": [
        "# использзуем стандартизатор\n",
        "sc = StandardScaler()\n",
        "\n",
        "X_train, X_test, y_train, y_test = train_test_split(sc.fit_transform(X), y, random_state=42)"
      ]
    },
    {
      "cell_type": "markdown",
      "metadata": {
        "id": "0Wk9MI0xTx3E"
      },
      "source": [
        "После:"
      ]
    },
    {
      "cell_type": "code",
      "execution_count": 23,
      "metadata": {
        "colab": {
          "base_uri": "https://localhost:8080/"
        },
        "id": "b56ZVRgaTx3F",
        "outputId": "66d7ee68-defa-40c5-9f82-59d7e1d7f40f"
      },
      "outputs": [
        {
          "output_type": "execute_result",
          "data": {
            "text/plain": [
              "[0.291007552571261,\n",
              " 0.4090342348627316,\n",
              " 2.7018134034374643,\n",
              " 2.2071532994957423,\n",
              " 0.9140238266037984,\n",
              " 1.9147674359228783,\n",
              " -1.4559039575669104,\n",
              " 1.59287808281779,\n",
              " -0.3503958191137472,\n",
              " 0.998203034860476]"
            ]
          },
          "metadata": {},
          "execution_count": 23
        }
      ],
      "source": [
        "list(sc.fit_transform(X)[0])"
      ]
    },
    {
      "cell_type": "markdown",
      "metadata": {
        "id": "ywqaL3xjTx3F"
      },
      "source": [
        "теперь с данными удобнее работать и обучать"
      ]
    },
    {
      "cell_type": "code",
      "execution_count": 24,
      "metadata": {
        "tags": [],
        "colab": {
          "base_uri": "https://localhost:8080/"
        },
        "id": "9mh41xtrTx3F",
        "outputId": "521c6833-58e8-4f67-9dec-4eaa7a023a48"
      },
      "outputs": [
        {
          "output_type": "execute_result",
          "data": {
            "text/plain": [
              "Ridge()"
            ]
          },
          "metadata": {},
          "execution_count": 24
        }
      ],
      "source": [
        "# задаем модель регрессора\n",
        "# силу регуляризации можно варьировать параметром alpha\n",
        "regressor = Ridge() \n",
        "\n",
        "\n",
        "# обучаем\n",
        "regressor.fit(X_train, y_train)"
      ]
    },
    {
      "cell_type": "code",
      "execution_count": 25,
      "metadata": {
        "id": "2fv8U_hfTx3F"
      },
      "outputs": [],
      "source": [
        "# давайте предскажем результат для тестовой выборки\n",
        "\n",
        "y_preds = regressor.predict(X_test)"
      ]
    },
    {
      "cell_type": "markdown",
      "metadata": {
        "id": "avi-69KoTx3F"
      },
      "source": [
        "### оценка результатов алгоритма\n",
        "\n",
        "В качестве метрики будем использовать [среднюю абсолютную ошибку](https://www.youtube.com/watch?v=ZejnwbcU8nw). Она показывает отклонение от правильного ответа в тех же единах измерения\n",
        "\n",
        "*(а вообще есть [разные способы](https://towardsdatascience.com/what-are-the-best-metrics-to-evaluate-your-regression-model-418ca481755b))*"
      ]
    },
    {
      "cell_type": "code",
      "execution_count": 26,
      "metadata": {
        "colab": {
          "base_uri": "https://localhost:8080/"
        },
        "id": "lz-260ZrTx3G",
        "outputId": "f1667344-9ea8-42f5-d54b-ddbc199a7ca3"
      },
      "outputs": [
        {
          "output_type": "execute_result",
          "data": {
            "text/plain": [
              "0.4241282274750051"
            ]
          },
          "metadata": {},
          "execution_count": 26
        }
      ],
      "source": [
        "mean_absolute_error(y_test, y_preds) "
      ]
    },
    {
      "cell_type": "code",
      "source": [
        "from sklearn.metrics import mean_squared_error\n",
        "mean_squared_error(y_test, y_preds)"
      ],
      "metadata": {
        "colab": {
          "base_uri": "https://localhost:8080/"
        },
        "id": "SpvFkdcpXlxy",
        "outputId": "84f9a46f-fdd7-4bee-f01b-f38ad34ff770"
      },
      "execution_count": 27,
      "outputs": [
        {
          "output_type": "execute_result",
          "data": {
            "text/plain": [
              "0.3376602381647097"
            ]
          },
          "metadata": {},
          "execution_count": 27
        }
      ]
    },
    {
      "cell_type": "code",
      "source": [
        "import math\n",
        "mean_squared_error(y_test, y_preds, squared=False)"
      ],
      "metadata": {
        "colab": {
          "base_uri": "https://localhost:8080/"
        },
        "id": "4yDgM_EUXx_S",
        "outputId": "cb3daceb-8c78-4c7b-b6dd-d156819d643e"
      },
      "execution_count": 28,
      "outputs": [
        {
          "output_type": "execute_result",
          "data": {
            "text/plain": [
              "0.5810853966197307"
            ]
          },
          "metadata": {},
          "execution_count": 28
        }
      ]
    },
    {
      "cell_type": "markdown",
      "metadata": {
        "id": "k056lmUPTx3G"
      },
      "source": [
        "Возьмем линейную регрессию"
      ]
    },
    {
      "cell_type": "code",
      "execution_count": 33,
      "metadata": {
        "colab": {
          "base_uri": "https://localhost:8080/"
        },
        "id": "X3JHUbSOTx3G",
        "outputId": "8818c50d-8b37-4ba3-dc42-499f18357db3"
      },
      "outputs": [
        {
          "output_type": "stream",
          "name": "stdout",
          "text": [
            "MAE: 0.42413821121834794\n",
            "MSE: 0.33770380845810277\n",
            "RMSE: 0.5811228858495445\n"
          ]
        }
      ],
      "source": [
        "regressor = LinearRegression()\n",
        "regressor.fit(X_train, y_train)\n",
        "y_preds = regressor.predict(X_test)\n",
        "print(\"MAE: \" + str(mean_absolute_error(y_test, y_preds)))\n",
        "print(\"MSE: \" + str(mean_squared_error(y_test, y_preds)))\n",
        "print(\"RMSE: \" + str(mean_squared_error(y_test, y_preds, squared=False)))"
      ]
    },
    {
      "cell_type": "markdown",
      "source": [
        "Лассо"
      ],
      "metadata": {
        "id": "1qfs3p28ZNfS"
      }
    },
    {
      "cell_type": "code",
      "source": [
        "regressor = Lasso()\n",
        "regressor.fit(X_train, y_train)\n",
        "y_preds = regressor.predict(X_test)\n",
        "print(\"MAE: \" + str(mean_absolute_error(y_test, y_preds)))\n",
        "print(\"MSE: \" + str(mean_squared_error(y_test, y_preds)))\n",
        "print(\"RMSE: \" + str(mean_squared_error(y_test, y_preds, squared=False)))"
      ],
      "metadata": {
        "colab": {
          "base_uri": "https://localhost:8080/"
        },
        "id": "QliVML48ZHuz",
        "outputId": "2e723eab-6971-4c87-9b5a-9b1ac1264086"
      },
      "execution_count": 34,
      "outputs": [
        {
          "output_type": "stream",
          "name": "stdout",
          "text": [
            "MAE: 0.7520536127593316\n",
            "MSE: 0.8563704428453197\n",
            "RMSE: 0.9254028543533458\n"
          ]
        }
      ]
    },
    {
      "cell_type": "markdown",
      "source": [
        "Теперь можно попытаться усовершенствовать пайплайн. Прежде всего поменяем обработку данных: уберем стоп слова и пунктуацию."
      ],
      "metadata": {
        "id": "lAiCnvwAZc1k"
      }
    },
    {
      "cell_type": "code",
      "source": [
        "data = pd.read_csv('IMDB-Movie-Data.csv')\n",
        "print(data.shape)\n",
        "\n",
        "data.head(3)"
      ],
      "metadata": {
        "colab": {
          "base_uri": "https://localhost:8080/",
          "height": 529
        },
        "id": "w-l3fRCaZnwS",
        "outputId": "1b473092-1a28-42e7-d592-6359fc0ac52a"
      },
      "execution_count": 44,
      "outputs": [
        {
          "output_type": "stream",
          "name": "stdout",
          "text": [
            "(1000, 12)\n"
          ]
        },
        {
          "output_type": "execute_result",
          "data": {
            "text/plain": [
              "   Rank                    Title                     Genre  \\\n",
              "0     1  Guardians of the Galaxy   Action,Adventure,Sci-Fi   \n",
              "1     2               Prometheus  Adventure,Mystery,Sci-Fi   \n",
              "2     3                    Split           Horror,Thriller   \n",
              "\n",
              "                                         Description            Director  \\\n",
              "0  A group of intergalactic criminals are forced ...          James Gunn   \n",
              "1  Following clues to the origin of mankind, a te...        Ridley Scott   \n",
              "2  Three girls are kidnapped by a man with a diag...  M. Night Shyamalan   \n",
              "\n",
              "                                              Actors  Year  Runtime (Minutes)  \\\n",
              "0  Chris Pratt, Vin Diesel, Bradley Cooper, Zoe S...  2014                121   \n",
              "1  Noomi Rapace, Logan Marshall-Green, Michael Fa...  2012                124   \n",
              "2  James McAvoy, Anya Taylor-Joy, Haley Lu Richar...  2016                117   \n",
              "\n",
              "   Rating   Votes  Revenue (Millions)  Metascore  \n",
              "0     8.1  757074              333.13       76.0  \n",
              "1     7.0  485820              126.46       65.0  \n",
              "2     7.3  157606              138.12       62.0  "
            ],
            "text/html": [
              "\n",
              "  <div id=\"df-f9cf9b45-9085-4ad0-b9cb-8a15d8179c94\">\n",
              "    <div class=\"colab-df-container\">\n",
              "      <div>\n",
              "<style scoped>\n",
              "    .dataframe tbody tr th:only-of-type {\n",
              "        vertical-align: middle;\n",
              "    }\n",
              "\n",
              "    .dataframe tbody tr th {\n",
              "        vertical-align: top;\n",
              "    }\n",
              "\n",
              "    .dataframe thead th {\n",
              "        text-align: right;\n",
              "    }\n",
              "</style>\n",
              "<table border=\"1\" class=\"dataframe\">\n",
              "  <thead>\n",
              "    <tr style=\"text-align: right;\">\n",
              "      <th></th>\n",
              "      <th>Rank</th>\n",
              "      <th>Title</th>\n",
              "      <th>Genre</th>\n",
              "      <th>Description</th>\n",
              "      <th>Director</th>\n",
              "      <th>Actors</th>\n",
              "      <th>Year</th>\n",
              "      <th>Runtime (Minutes)</th>\n",
              "      <th>Rating</th>\n",
              "      <th>Votes</th>\n",
              "      <th>Revenue (Millions)</th>\n",
              "      <th>Metascore</th>\n",
              "    </tr>\n",
              "  </thead>\n",
              "  <tbody>\n",
              "    <tr>\n",
              "      <th>0</th>\n",
              "      <td>1</td>\n",
              "      <td>Guardians of the Galaxy</td>\n",
              "      <td>Action,Adventure,Sci-Fi</td>\n",
              "      <td>A group of intergalactic criminals are forced ...</td>\n",
              "      <td>James Gunn</td>\n",
              "      <td>Chris Pratt, Vin Diesel, Bradley Cooper, Zoe S...</td>\n",
              "      <td>2014</td>\n",
              "      <td>121</td>\n",
              "      <td>8.1</td>\n",
              "      <td>757074</td>\n",
              "      <td>333.13</td>\n",
              "      <td>76.0</td>\n",
              "    </tr>\n",
              "    <tr>\n",
              "      <th>1</th>\n",
              "      <td>2</td>\n",
              "      <td>Prometheus</td>\n",
              "      <td>Adventure,Mystery,Sci-Fi</td>\n",
              "      <td>Following clues to the origin of mankind, a te...</td>\n",
              "      <td>Ridley Scott</td>\n",
              "      <td>Noomi Rapace, Logan Marshall-Green, Michael Fa...</td>\n",
              "      <td>2012</td>\n",
              "      <td>124</td>\n",
              "      <td>7.0</td>\n",
              "      <td>485820</td>\n",
              "      <td>126.46</td>\n",
              "      <td>65.0</td>\n",
              "    </tr>\n",
              "    <tr>\n",
              "      <th>2</th>\n",
              "      <td>3</td>\n",
              "      <td>Split</td>\n",
              "      <td>Horror,Thriller</td>\n",
              "      <td>Three girls are kidnapped by a man with a diag...</td>\n",
              "      <td>M. Night Shyamalan</td>\n",
              "      <td>James McAvoy, Anya Taylor-Joy, Haley Lu Richar...</td>\n",
              "      <td>2016</td>\n",
              "      <td>117</td>\n",
              "      <td>7.3</td>\n",
              "      <td>157606</td>\n",
              "      <td>138.12</td>\n",
              "      <td>62.0</td>\n",
              "    </tr>\n",
              "  </tbody>\n",
              "</table>\n",
              "</div>\n",
              "      <button class=\"colab-df-convert\" onclick=\"convertToInteractive('df-f9cf9b45-9085-4ad0-b9cb-8a15d8179c94')\"\n",
              "              title=\"Convert this dataframe to an interactive table.\"\n",
              "              style=\"display:none;\">\n",
              "        \n",
              "  <svg xmlns=\"http://www.w3.org/2000/svg\" height=\"24px\"viewBox=\"0 0 24 24\"\n",
              "       width=\"24px\">\n",
              "    <path d=\"M0 0h24v24H0V0z\" fill=\"none\"/>\n",
              "    <path d=\"M18.56 5.44l.94 2.06.94-2.06 2.06-.94-2.06-.94-.94-2.06-.94 2.06-2.06.94zm-11 1L8.5 8.5l.94-2.06 2.06-.94-2.06-.94L8.5 2.5l-.94 2.06-2.06.94zm10 10l.94 2.06.94-2.06 2.06-.94-2.06-.94-.94-2.06-.94 2.06-2.06.94z\"/><path d=\"M17.41 7.96l-1.37-1.37c-.4-.4-.92-.59-1.43-.59-.52 0-1.04.2-1.43.59L10.3 9.45l-7.72 7.72c-.78.78-.78 2.05 0 2.83L4 21.41c.39.39.9.59 1.41.59.51 0 1.02-.2 1.41-.59l7.78-7.78 2.81-2.81c.8-.78.8-2.07 0-2.86zM5.41 20L4 18.59l7.72-7.72 1.47 1.35L5.41 20z\"/>\n",
              "  </svg>\n",
              "      </button>\n",
              "      \n",
              "  <style>\n",
              "    .colab-df-container {\n",
              "      display:flex;\n",
              "      flex-wrap:wrap;\n",
              "      gap: 12px;\n",
              "    }\n",
              "\n",
              "    .colab-df-convert {\n",
              "      background-color: #E8F0FE;\n",
              "      border: none;\n",
              "      border-radius: 50%;\n",
              "      cursor: pointer;\n",
              "      display: none;\n",
              "      fill: #1967D2;\n",
              "      height: 32px;\n",
              "      padding: 0 0 0 0;\n",
              "      width: 32px;\n",
              "    }\n",
              "\n",
              "    .colab-df-convert:hover {\n",
              "      background-color: #E2EBFA;\n",
              "      box-shadow: 0px 1px 2px rgba(60, 64, 67, 0.3), 0px 1px 3px 1px rgba(60, 64, 67, 0.15);\n",
              "      fill: #174EA6;\n",
              "    }\n",
              "\n",
              "    [theme=dark] .colab-df-convert {\n",
              "      background-color: #3B4455;\n",
              "      fill: #D2E3FC;\n",
              "    }\n",
              "\n",
              "    [theme=dark] .colab-df-convert:hover {\n",
              "      background-color: #434B5C;\n",
              "      box-shadow: 0px 1px 3px 1px rgba(0, 0, 0, 0.15);\n",
              "      filter: drop-shadow(0px 1px 2px rgba(0, 0, 0, 0.3));\n",
              "      fill: #FFFFFF;\n",
              "    }\n",
              "  </style>\n",
              "\n",
              "      <script>\n",
              "        const buttonEl =\n",
              "          document.querySelector('#df-f9cf9b45-9085-4ad0-b9cb-8a15d8179c94 button.colab-df-convert');\n",
              "        buttonEl.style.display =\n",
              "          google.colab.kernel.accessAllowed ? 'block' : 'none';\n",
              "\n",
              "        async function convertToInteractive(key) {\n",
              "          const element = document.querySelector('#df-f9cf9b45-9085-4ad0-b9cb-8a15d8179c94');\n",
              "          const dataTable =\n",
              "            await google.colab.kernel.invokeFunction('convertToInteractive',\n",
              "                                                     [key], {});\n",
              "          if (!dataTable) return;\n",
              "\n",
              "          const docLinkHtml = 'Like what you see? Visit the ' +\n",
              "            '<a target=\"_blank\" href=https://colab.research.google.com/notebooks/data_table.ipynb>data table notebook</a>'\n",
              "            + ' to learn more about interactive tables.';\n",
              "          element.innerHTML = '';\n",
              "          dataTable['output_type'] = 'display_data';\n",
              "          await google.colab.output.renderOutput(dataTable, element);\n",
              "          const docLink = document.createElement('div');\n",
              "          docLink.innerHTML = docLinkHtml;\n",
              "          element.appendChild(docLink);\n",
              "        }\n",
              "      </script>\n",
              "    </div>\n",
              "  </div>\n",
              "  "
            ]
          },
          "metadata": {},
          "execution_count": 44
        }
      ]
    },
    {
      "cell_type": "code",
      "source": [
        "# 1. Убрать строки с NaN\n",
        "print(data.isna().any())\n",
        "data.shape\n",
        "\n",
        "print(data.shape)\n",
        "data = data.dropna()\n",
        "data.shape"
      ],
      "metadata": {
        "colab": {
          "base_uri": "https://localhost:8080/"
        },
        "id": "l3zzhMphZqRM",
        "outputId": "26d3b01b-24eb-4550-fcf5-c7e1a749c27c"
      },
      "execution_count": 45,
      "outputs": [
        {
          "output_type": "stream",
          "name": "stdout",
          "text": [
            "Rank                  False\n",
            "Title                 False\n",
            "Genre                 False\n",
            "Description           False\n",
            "Director              False\n",
            "Actors                False\n",
            "Year                  False\n",
            "Runtime (Minutes)     False\n",
            "Rating                False\n",
            "Votes                 False\n",
            "Revenue (Millions)     True\n",
            "Metascore              True\n",
            "dtype: bool\n",
            "(1000, 12)\n"
          ]
        },
        {
          "output_type": "execute_result",
          "data": {
            "text/plain": [
              "(838, 12)"
            ]
          },
          "metadata": {},
          "execution_count": 45
        }
      ]
    },
    {
      "cell_type": "markdown",
      "source": [
        "Сделаем лучше токенизацию, уберем пунктуацию и стоп слова"
      ],
      "metadata": {
        "id": "4A-vNtwJaI8o"
      }
    },
    {
      "cell_type": "code",
      "source": [
        "import nltk\n",
        "nltk.download('punkt')\n",
        "from nltk.tokenize import word_tokenize\n",
        "data[\"text\"] = data.Description.apply(lambda x: word_tokenize(x)) "
      ],
      "metadata": {
        "colab": {
          "base_uri": "https://localhost:8080/"
        },
        "id": "1jR14k7qaIe-",
        "outputId": "42c60adf-d7dc-4028-ad1b-9fb7ce02eb21"
      },
      "execution_count": 53,
      "outputs": [
        {
          "output_type": "stream",
          "name": "stderr",
          "text": [
            "[nltk_data] Downloading package punkt to /root/nltk_data...\n",
            "[nltk_data]   Package punkt is already up-to-date!\n"
          ]
        }
      ]
    },
    {
      "cell_type": "code",
      "source": [
        "import string\n",
        "from nltk.corpus import stopwords\n",
        "nltk.download('stopwords')\n",
        "\n",
        "stop_words = stopwords.words('english')\n",
        "def remove_punctuations_and_stop_words(list_of_str):\n",
        "    new_list = []\n",
        "    for word in list_of_str:\n",
        "      if word not in string.punctuation and word not in stop_words:\n",
        "        new_list.append(word)\n",
        "    return new_list"
      ],
      "metadata": {
        "colab": {
          "base_uri": "https://localhost:8080/"
        },
        "id": "AgDIeF0jafq0",
        "outputId": "8a0be028-4c78-4e74-dbb7-bb952039d446"
      },
      "execution_count": 54,
      "outputs": [
        {
          "output_type": "stream",
          "name": "stderr",
          "text": [
            "[nltk_data] Downloading package stopwords to /root/nltk_data...\n",
            "[nltk_data]   Package stopwords is already up-to-date!\n"
          ]
        }
      ]
    },
    {
      "cell_type": "code",
      "source": [
        "data[\"text\"] = data.text.apply(lambda x: remove_punctuations_and_stop_words(x)) "
      ],
      "metadata": {
        "id": "PwXJ1A3Na5RU"
      },
      "execution_count": 57,
      "outputs": []
    },
    {
      "cell_type": "code",
      "source": [
        "data[\"text\"][:10]"
      ],
      "metadata": {
        "colab": {
          "base_uri": "https://localhost:8080/"
        },
        "id": "bxMDavllbMEo",
        "outputId": "178d057c-ded2-4316-e5d1-85fea70a0007"
      },
      "execution_count": 58,
      "outputs": [
        {
          "output_type": "execute_result",
          "data": {
            "text/plain": [
              "0     [A, group, intergalactic, criminals, forced, w...\n",
              "1     [Following, clues, origin, mankind, team, find...\n",
              "2     [Three, girls, kidnapped, man, diagnosed, 23, ...\n",
              "3     [In, city, humanoid, animals, hustling, theate...\n",
              "4     [A, secret, government, agency, recruits, dang...\n",
              "5     [European, mercenaries, searching, black, powd...\n",
              "6     [A, jazz, pianist, falls, aspiring, actress, L...\n",
              "8     [A, true-life, drama, centering, British, expl...\n",
              "9     [A, spacecraft, traveling, distant, colony, pl...\n",
              "10    [The, adventures, writer, Newt, Scamander, New...\n",
              "Name: text, dtype: object"
            ]
          },
          "metadata": {},
          "execution_count": 58
        }
      ]
    },
    {
      "cell_type": "code",
      "source": [
        "input_text = list(data.text.values)\n",
        "documents = [TaggedDocument(doc, [i]) for i, doc in enumerate(input_text)]\n",
        "documents[10:12]\n",
        "model = Doc2Vec(documents, vector_size=5, window=2, min_count=1, workers=4)\n",
        "vectors = []\n",
        "for x in documents:\n",
        "    vec = list(model[x.tags][0])\n",
        "    vectors.append(vec)\n",
        "split_df = pd.DataFrame(vectors,\n",
        "                        columns=['v1', 'v2', 'v3','v4',\"v5\"])\n",
        "\n",
        "result = data.join(split_df, how='left')\n",
        "data_sm = result[['Runtime (Minutes)',\"Year\",\n",
        "                'Rating', 'Votes',\n",
        "                'Revenue (Millions)','Metascore',\"v1\",\"v2\",\"v3\",\"v4\",\"v5\"]\n",
        "              ]\n",
        "data_sm = data_sm.dropna()\n",
        "X = data_sm.drop([\"Rating\"],axis=1).values \n",
        "y = data_sm['Rating'].values # отдельно вынесли массив со значениями скорости ветра"
      ],
      "metadata": {
        "colab": {
          "base_uri": "https://localhost:8080/"
        },
        "id": "SN8hXHhAbiRf",
        "outputId": "00acfe11-d24c-4b9e-b3ee-08dc361b59bd"
      },
      "execution_count": 59,
      "outputs": [
        {
          "output_type": "stream",
          "name": "stderr",
          "text": [
            "WARNING:gensim.models.base_any2vec:consider setting layer size to a multiple of 4 for greater performance\n",
            "WARNING:gensim.models.base_any2vec:under 10 jobs per worker: consider setting a smaller `batch_words' for smoother alpha decay\n"
          ]
        }
      ]
    },
    {
      "cell_type": "code",
      "source": [
        "sc = StandardScaler()\n",
        "\n",
        "X_train, X_test, y_train, y_test = train_test_split(sc.fit_transform(X), y, random_state=42)"
      ],
      "metadata": {
        "id": "LTEmg4zucJMc"
      },
      "execution_count": 70,
      "outputs": []
    },
    {
      "cell_type": "markdown",
      "source": [
        "Обучим модели на текстах с предобработанными данными"
      ],
      "metadata": {
        "id": "vm95sDeGctUY"
      }
    },
    {
      "cell_type": "code",
      "source": [
        "regressor = Ridge() \n",
        "regressor.fit(X_train, y_train)\n",
        "y_preds = regressor.predict(X_test)\n",
        "print(\"MAE: \" + str(mean_absolute_error(y_test, y_preds)))\n",
        "print(\"MSE: \" + str(mean_squared_error(y_test, y_preds)))\n",
        "print(\"RMSE: \" + str(mean_squared_error(y_test, y_preds, squared=False)))"
      ],
      "metadata": {
        "colab": {
          "base_uri": "https://localhost:8080/"
        },
        "id": "OIfWVpE4cOb2",
        "outputId": "b18ac174-f3cb-4f70-8c7c-60cf03f6ba1e"
      },
      "execution_count": 71,
      "outputs": [
        {
          "output_type": "stream",
          "name": "stdout",
          "text": [
            "MAE: 0.4274951160218614\n",
            "MSE: 0.3408081095282528\n",
            "RMSE: 0.5837877264282393\n"
          ]
        }
      ]
    },
    {
      "cell_type": "code",
      "source": [
        "regressor = LinearRegression()\n",
        "regressor.fit(X_train, y_train)\n",
        "y_preds = regressor.predict(X_test)\n",
        "print(\"MAE: \" + str(mean_absolute_error(y_test, y_preds)))\n",
        "print(\"MSE: \" + str(mean_squared_error(y_test, y_preds)))\n",
        "print(\"RMSE: \" + str(mean_squared_error(y_test, y_preds, squared=False)))"
      ],
      "metadata": {
        "colab": {
          "base_uri": "https://localhost:8080/"
        },
        "id": "rey-UqcAceBz",
        "outputId": "5f81efa2-20cd-4f0a-fc86-14a836722161"
      },
      "execution_count": 65,
      "outputs": [
        {
          "output_type": "stream",
          "name": "stdout",
          "text": [
            "MAE: 0.4274995306074815\n",
            "MSE: 0.34088230040220774\n",
            "RMSE: 0.5838512656509428\n"
          ]
        }
      ]
    },
    {
      "cell_type": "code",
      "source": [
        "regressor = Lasso()\n",
        "regressor.fit(X_train, y_train)\n",
        "y_preds = regressor.predict(X_test)\n",
        "print(\"MAE: \" + str(mean_absolute_error(y_test, y_preds)))\n",
        "print(\"MSE: \" + str(mean_squared_error(y_test, y_preds)))\n",
        "print(\"RMSE: \" + str(mean_squared_error(y_test, y_preds, squared=False)))"
      ],
      "metadata": {
        "colab": {
          "base_uri": "https://localhost:8080/"
        },
        "id": "m1cKV9YfchR0",
        "outputId": "5290da43-3275-4862-ccda-711130a4139f"
      },
      "execution_count": 66,
      "outputs": [
        {
          "output_type": "stream",
          "name": "stdout",
          "text": [
            "MAE: 0.7520536127593316\n",
            "MSE: 0.8563704428453197\n",
            "RMSE: 0.9254028543533458\n"
          ]
        }
      ]
    },
    {
      "cell_type": "markdown",
      "source": [
        "Как можно видеть, результаты сильно не поменялись ни для какой из моделей"
      ],
      "metadata": {
        "id": "NS1iyIK1c65m"
      }
    },
    {
      "cell_type": "markdown",
      "source": [
        "Попробуем новые гиперпараметры: поменяем alpha и увеличим количество итераций"
      ],
      "metadata": {
        "id": "fmg3o0QOc7eJ"
      }
    },
    {
      "cell_type": "code",
      "source": [
        "regressor = Ridge(alpha=0.5, max_iter=20000) \n",
        "regressor.fit(X_train, y_train)\n",
        "y_preds = regressor.predict(X_test)\n",
        "print(\"MAE: \" + str(mean_absolute_error(y_test, y_preds)))\n",
        "print(\"MSE: \" + str(mean_squared_error(y_test, y_preds)))\n",
        "print(\"RMSE: \" + str(mean_squared_error(y_test, y_preds, squared=False)))"
      ],
      "metadata": {
        "colab": {
          "base_uri": "https://localhost:8080/"
        },
        "id": "Me3xOd4zc9d9",
        "outputId": "e9d126f9-18af-4fef-8d85-a6c81872e355"
      },
      "execution_count": 84,
      "outputs": [
        {
          "output_type": "stream",
          "name": "stdout",
          "text": [
            "MAE: 0.4274972116110509\n",
            "MSE: 0.3408444598179998\n",
            "RMSE: 0.5838188587378793\n"
          ]
        }
      ]
    },
    {
      "cell_type": "code",
      "source": [
        "regressor = Ridge(alpha=0.001, max_iter=20000) \n",
        "regressor.fit(X_train, y_train)\n",
        "y_preds = regressor.predict(X_test)\n",
        "print(\"MAE: \" + str(mean_absolute_error(y_test, y_preds)))\n",
        "print(\"MSE: \" + str(mean_squared_error(y_test, y_preds)))\n",
        "print(\"RMSE: \" + str(mean_squared_error(y_test, y_preds, squared=False)))"
      ],
      "metadata": {
        "colab": {
          "base_uri": "https://localhost:8080/"
        },
        "id": "vxoNQcwLd3Rj",
        "outputId": "fba96890-b00b-48f5-e55c-b2d7b0f0d12f"
      },
      "execution_count": 86,
      "outputs": [
        {
          "output_type": "stream",
          "name": "stdout",
          "text": [
            "MAE: 0.42749952574422356\n",
            "MSE: 0.3408822232195538\n",
            "RMSE: 0.5838511995530657\n"
          ]
        }
      ]
    },
    {
      "cell_type": "markdown",
      "source": [
        "На Ridge изменение параметров почти никак не влияет. Теперь попробуем Lasso"
      ],
      "metadata": {
        "id": "5gVYLnGne_0K"
      }
    },
    {
      "cell_type": "code",
      "source": [
        "regressor = Lasso(alpha=0.5, max_iter=20000) \n",
        "regressor.fit(X_train, y_train)\n",
        "y_preds = regressor.predict(X_test)\n",
        "print(\"MAE: \" + str(mean_absolute_error(y_test, y_preds)))\n",
        "print(\"MSE: \" + str(mean_squared_error(y_test, y_preds)))\n",
        "print(\"RMSE: \" + str(mean_squared_error(y_test, y_preds, squared=False)))"
      ],
      "metadata": {
        "colab": {
          "base_uri": "https://localhost:8080/"
        },
        "id": "4ijbhU_Jfsk3",
        "outputId": "9dc526d6-d7b0-4b07-b3a2-3ceb506ddfe3"
      },
      "execution_count": 91,
      "outputs": [
        {
          "output_type": "stream",
          "name": "stdout",
          "text": [
            "MAE: 0.6950468432083461\n",
            "MSE: 0.7471891419735718\n",
            "RMSE: 0.8644010307568888\n"
          ]
        }
      ]
    },
    {
      "cell_type": "code",
      "source": [
        "regressor = Ridge(alpha=0.001, max_iter=20000) \n",
        "regressor.fit(X_train, y_train)\n",
        "y_preds = regressor.predict(X_test)\n",
        "print(\"MAE: \" + str(mean_absolute_error(y_test, y_preds)))\n",
        "print(\"MSE: \" + str(mean_squared_error(y_test, y_preds)))\n",
        "print(\"RMSE: \" + str(mean_squared_error(y_test, y_preds, squared=False)))"
      ],
      "metadata": {
        "colab": {
          "base_uri": "https://localhost:8080/"
        },
        "id": "qg8eRkJsfw8E",
        "outputId": "4a61d5de-56fc-45d5-9401-c2c1908e9859"
      },
      "execution_count": 93,
      "outputs": [
        {
          "output_type": "stream",
          "name": "stdout",
          "text": [
            "MAE: 0.42749952574422356\n",
            "MSE: 0.3408822232195538\n",
            "RMSE: 0.5838511995530657\n"
          ]
        }
      ]
    },
    {
      "cell_type": "markdown",
      "source": [
        "Как можно увидеть, уменьшение alpha для Lasso сильно улучшило результаты."
      ],
      "metadata": {
        "id": "tl4fNZynf5Zc"
      }
    },
    {
      "cell_type": "code",
      "source": [
        "regressor = Ridge(alpha=0.0000001, max_iter=20000) \n",
        "regressor.fit(X_train, y_train)\n",
        "y_preds = regressor.predict(X_test)\n",
        "print(\"MAE: \" + str(mean_absolute_error(y_test, y_preds)))\n",
        "print(\"MSE: \" + str(mean_squared_error(y_test, y_preds)))\n",
        "print(\"RMSE: \" + str(mean_squared_error(y_test, y_preds, squared=False)))"
      ],
      "metadata": {
        "colab": {
          "base_uri": "https://localhost:8080/"
        },
        "id": "dS85Z2-5f9Zs",
        "outputId": "c77f9166-2f56-421f-eb17-e6d98f738a76"
      },
      "execution_count": 94,
      "outputs": [
        {
          "output_type": "stream",
          "name": "stdout",
          "text": [
            "MAE: 0.4274995306069951\n",
            "MSE: 0.34088230039448925\n",
            "RMSE: 0.5838512656443328\n"
          ]
        }
      ]
    },
    {
      "cell_type": "markdown",
      "source": [
        "Однако, если сделать его еще меньше -- ничего практически не поменяется. Кажется, что тут достигнут предел."
      ],
      "metadata": {
        "id": "gvPCJ7J_gA1_"
      }
    }
  ],
  "metadata": {
    "kernelspec": {
      "display_name": "Python 3 (ipykernel)",
      "language": "python",
      "name": "python3"
    },
    "language_info": {
      "codemirror_mode": {
        "name": "ipython",
        "version": 3
      },
      "file_extension": ".py",
      "mimetype": "text/x-python",
      "name": "python",
      "nbconvert_exporter": "python",
      "pygments_lexer": "ipython3",
      "version": "3.10.0"
    },
    "colab": {
      "provenance": []
    }
  },
  "nbformat": 4,
  "nbformat_minor": 0
}